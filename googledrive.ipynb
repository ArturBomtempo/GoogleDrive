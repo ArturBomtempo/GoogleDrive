{
 "cells": [
  {
   "cell_type": "code",
   "execution_count": 6,
   "metadata": {},
   "outputs": [],
   "source": [
    "import pyautogui\n",
    "import time"
   ]
  },
  {
   "cell_type": "code",
   "execution_count": 7,
   "metadata": {},
   "outputs": [
    {
     "data": {
      "text/plain": [
       "'OK'"
      ]
     },
     "execution_count": 7,
     "metadata": {},
     "output_type": "execute_result"
    }
   ],
   "source": [
    "pyautogui.alert('O código vai começar! Por favor, não faça nada enquanto o código estiver rodando.')\n",
    "pyautogui.PAUSE = 1\n",
    "\n",
    "pyautogui.press('win')\n",
    "pyautogui.write('chrome')\n",
    "pyautogui.sleep(1)\n",
    "pyautogui.press('enter')\n",
    "pyautogui.sleep(1)\n",
    "pyautogui.write('https://drive.google.com/drive/u/0/my-drive')\n",
    "pyautogui.sleep(2)\n",
    "pyautogui.press('enter')\n",
    "pyautogui.sleep(3)\n",
    "\n",
    "pyautogui.hotkey('win', 'd')\n",
    "pyautogui.moveTo(1291, 33)\n",
    "pyautogui.mouseDown()\n",
    "pyautogui.sleep(1)\n",
    "pyautogui.moveTo(1313, 779)\n",
    "pyautogui.hotkey('alt', 'tab')\n",
    "pyautogui.mouseUp()\n",
    "time.sleep(5)\n",
    "\n",
    "pyautogui.alert('A automação foi finalizada, pode usar seu computador novamente!')"
   ]
  },
  {
   "cell_type": "code",
   "execution_count": 8,
   "metadata": {},
   "outputs": [],
   "source": [
    "# pyautogui.KEYBOARD_KEYS"
   ]
  },
  {
   "cell_type": "code",
   "execution_count": 9,
   "metadata": {},
   "outputs": [],
   "source": [
    "# pyautogui.position()"
   ]
  }
 ],
 "metadata": {
  "interpreter": {
   "hash": "c390d80876fbd9910d2458d1dd8c94156d7fff4a02d59b7b261bce8b8fe96b77"
  },
  "kernelspec": {
   "display_name": "Python 3.10.4 64-bit",
   "language": "python",
   "name": "python3"
  },
  "language_info": {
   "codemirror_mode": {
    "name": "ipython",
    "version": 3
   },
   "file_extension": ".py",
   "mimetype": "text/x-python",
   "name": "python",
   "nbconvert_exporter": "python",
   "pygments_lexer": "ipython3",
   "version": "3.10.4"
  },
  "orig_nbformat": 4
 },
 "nbformat": 4,
 "nbformat_minor": 2
}
